{
 "cells": [
  {
   "cell_type": "markdown",
   "metadata": {},
   "source": [
    "# Optimization method : Newton+Golden Search\n",
    "\n",
    "1) Pass: Golden Search Method, employing the function \"minimize_scalar\" from scipy.optimize\n",
    "\n",
    "2) Search direction : -$\\mathbf{H}^{-1}\\nabla f$ \n",
    "\n",
    "The first step consists in defining the algorithms parameters, such as initial point $\\mathbf{x}_{(0)}$, $\\alpha_{(t)}$ and convergence tolerance constant $\\epsilon_{\\nabla}$, as well as the function to be minimized, its gradient and Hessian evaluation:\n",
    "\n"
   ]
  },
  {
   "cell_type": "code",
   "execution_count": 4,
   "metadata": {},
   "outputs": [],
   "source": [
    "import numpy as np\n",
    "from scipy.optimize import minimize_scalar\n",
    "# Problem to be solved and variable for computational cost computation\n",
    "global problem, cost\n",
    "cost=0\n",
    "t=0\n",
    "problem=2\n",
    "# Initial guess\n",
    "x=np.array([20, 20])\n",
    "# Upper bound for the Gold Search algorithm\n",
    "alpha0=1.0\n",
    "# Convergence Tolerance\n",
    "TolG=1e-5\n",
    "\n",
    "# Definition of the equation to be minimized\n",
    "def f_obj(x):\n",
    "    global cost, problem\n",
    "    cost=cost+1\n",
    "    if problem==1:\n",
    "        f = x[0]**2+x[1]**2\n",
    "        df = np.array([2*x[0], 2*x[1]])\n",
    "        H = np.array([[2, 0], [0, 2]])\n",
    "    elif problem==2:\n",
    "        f=3*x[0]**2+2*x[0]*x[1]+2*x[1]**2+7\n",
    "        df=np.array([6*x[0]+2*x[1], 2*x[0]+4*x[1]])\n",
    "        H = np.array([[6, 2], [2, 4]])\n",
    "    return f, df,H\n",
    "# Definition of the equation to be minimized as function of the step size alpha\n",
    "def f_alpha(alpha,args):\n",
    "    xk,d=args[0],args[1]\n",
    "    xaux=xk+alpha*d\n",
    "    f,df,H=f_obj(xaux)\n",
    "    return f\n",
    "\n",
    "# f and df values at the inital point\n",
    "[f,df,H]=f_obj(x)"
   ]
  },
  {
   "cell_type": "code",
   "execution_count": 5,
   "metadata": {},
   "outputs": [],
   "source": [
    "# Search directin: BFGS \n",
    "    "
   ]
  },
  {
   "cell_type": "code",
   "execution_count": 6,
   "metadata": {},
   "outputs": [],
   "source": [
    "# Step size method: wolfe"
   ]
  },
  {
   "cell_type": "markdown",
   "metadata": {},
   "source": [
    "Now, we may start the iterative process for the function minimization using the gradient descent with step size calculated using the Golden Search method. For the latter, the function \"minimize_scalar\" from scipy.optimize is employed\n",
    "\n"
   ]
  },
  {
   "cell_type": "code",
   "execution_count": 7,
   "metadata": {},
   "outputs": [],
   "source": [
    "while np.sqrt(df @ df)>TolG:\n",
    "    # Search direction as negative of the gradient\n",
    "    d=-np.linalg.solve(H, df)\n",
    "    #d=-df\n",
    "    \n",
    "    # Step determination: Golden Search (method='golden'), Brent (method='brent') or Bounded (method='bounded')\n",
    "    alpha=minimize_scalar(f_alpha, bounds=(.001, alpha0), args=([x,d]), method='bounded')\n",
    "\n",
    "    # Update the current point \n",
    "    xt=x+alpha.x*d\n",
    "    \n",
    "    # Evaluate the objective funciton and gradient at the new point\n",
    "    f,df,H=f_obj(xt)\n",
    "    \n",
    "    # Update the design vairable and iteration number \n",
    "    x=xt\n",
    "    t=t+1"
   ]
  },
  {
   "cell_type": "markdown",
   "metadata": {},
   "source": [
    "The optimum design is stored in the variable $x$. Once the results are obtained, we may print them:"
   ]
  },
  {
   "cell_type": "code",
   "execution_count": 8,
   "metadata": {},
   "outputs": [
    {
     "name": "stdout",
     "output_type": "stream",
     "text": [
      "Optimum found:\n",
      "[3.94688294e-09 3.94688294e-09]\n",
      "Objective function value at the optimum:\n",
      "7.0\n",
      "Norm of the gradient at the optimum:\n",
      "3.9468829443465485e-08\n",
      "Number of times that the f_obj function was evaluated:\n",
      "52\n",
      "Number of iterations for convergence:\n",
      "2\n"
     ]
    }
   ],
   "source": [
    "print('Optimum found:')\n",
    "print(xt)\n",
    "print('Objective function value at the optimum:')\n",
    "print(f)\n",
    "print('Norm of the gradient at the optimum:')\n",
    "print(np.sqrt(df @ df))\n",
    "print('Number of times that the f_obj function was evaluated:')\n",
    "print(cost)\n",
    "print('Number of iterations for convergence:')\n",
    "print(t)\n"
   ]
  },
  {
   "cell_type": "code",
   "execution_count": null,
   "metadata": {},
   "outputs": [],
   "source": []
  }
 ],
 "metadata": {
  "kernelspec": {
   "display_name": "Python 3",
   "language": "python",
   "name": "python3"
  },
  "language_info": {
   "codemirror_mode": {
    "name": "ipython",
    "version": 3
   },
   "file_extension": ".py",
   "mimetype": "text/x-python",
   "name": "python",
   "nbconvert_exporter": "python",
   "pygments_lexer": "ipython3",
   "version": "3.7.6"
  }
 },
 "nbformat": 4,
 "nbformat_minor": 4
}
