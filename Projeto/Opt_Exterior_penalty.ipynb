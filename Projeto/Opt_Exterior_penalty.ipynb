{
 "cells": [
  {
   "cell_type": "markdown",
   "metadata": {},
   "source": [
    "# Optimization method : Exterior Penalty Function (Section 5.7.1 Haftka)\n",
    "\n",
    "## For the unconstrained search: conjugated gradient + interval reduction method\n",
    "\n",
    "1) Step size: Golden Search Method, employing the function \"minimize_scalar\" from scipy.optimize\n",
    "\n",
    "2) Search direction : Conjugated Gradient, $\\mathbf{d}_{(t)} = -\\nabla_{\\mathbf{x}} f_{(t)} + \\beta_{(t)}\\mathbf{d}_{(t-1)}$, onde $\\beta_{(t)}=\\left[\\frac{||\\nabla_{\\mathbf{x}} f_{(t)}||}{||\\nabla_{\\mathbf{x}} f_{(t-1)}||}\\right]^2$ \n",
    "\n",
    "The first step consists in defining the algorithms parameters, such as initial point $\\mathbf{x}_{(0)}$, $\\alpha_{(t)}$ and convergence tolerance constant $\\epsilon_{\\nabla}$, as well as the function to be minimized and its gradient evaluation:\n",
    "\n"
   ]
  },
  {
   "cell_type": "code",
   "execution_count": 1,
   "metadata": {},
   "outputs": [],
   "source": [
    "import numpy as np\n",
    "from scipy.optimize import minimize_scalar\n",
    "from plot_descent_penalty import plot_2d_contour, plot_3d_surface\n",
    "%matplotlib widget"
   ]
  },
  {
   "cell_type": "code",
   "execution_count": 2,
   "metadata": {},
   "outputs": [],
   "source": [
    "# Problem to be solved and variable for computational cost computation\n",
    "global problem, r\n",
    "problem = 2\n",
    "cost_f, cost_g = 0, 0\n",
    "\n",
    "# Initial guess\n",
    "x = np.array([1, 1.5])\n",
    "\n",
    "# Upper bound for the Gold Search algorithm\n",
    "alpha0 = 1.0\n",
    "\n",
    "# Initial value for penalization parameter and rate of increase\n",
    "r, r_ratio = .5, 1.1\n",
    "\n",
    "# Convergence Tolerance\n",
    "TolG = 1e-5\n",
    "\n",
    "# Stopping criterias\n",
    "itmax = 10 # Maximum number of iterations\n",
    "epsilon_1 = 0.001 # Magnitude of the penalty terms\n",
    "epsilon_2 = 0.001 # Change in value of the penalized objective function"
   ]
  },
  {
   "cell_type": "markdown",
   "metadata": {},
   "source": [
    "Define the objective function to be minimized and its constraints (it must be done by the user):"
   ]
  },
  {
   "cell_type": "code",
   "execution_count": 3,
   "metadata": {},
   "outputs": [],
   "source": [
    "# Definition of the equation to be minimized\n",
    "def f_obj(x):\n",
    "    global problem\n",
    "    if problem == 1:\n",
    "        f = x[0]**2 + 10*x[1]**2\n",
    "        df = np.array([2*x[0], 20*x[1]])\n",
    "    elif problem == 2:\n",
    "        f = (x[0]-1.5)**2 + (x[1]-1.5)**2\n",
    "        df = np.array([2*(x[0]-1.5), 2*(x[1]-1.5)])\n",
    "    elif problem == 3:\n",
    "        f = (x[0]-1.5)**2 + (x[1]-1.5)**2\n",
    "        df = np.array([2*(x[0]-1.5), 2*(x[1]-1.5)])\n",
    "    elif problem == 4:\n",
    "        f = (x[0]-1)**2 + (x[1]-1)**2\n",
    "        df = np.array([2*(x[0]-1), 2*(x[1]-1)])\n",
    "    elif problem == 5:\n",
    "        L = 5 # meters\n",
    "        f = x[0]*x[1]*L\n",
    "        df = np.array([(x[1]*L), (x[0]*L)])   \n",
    "        \n",
    "    return f, df\n",
    "\n",
    "# Definition of the constraints: h and g\n",
    "def nlconstraints(x):\n",
    "    global problem\n",
    "    if problem == 1:\n",
    "        h = x[0] + x[1] - 4\n",
    "        dh = np.array([1, 1])\n",
    "        g = np.array([])\n",
    "        dg = np.array([])\n",
    "    elif problem == 2:\n",
    "        h = x[0] + x[1] - 2\n",
    "        dh = np.array([1, 1])\n",
    "        g = np.array([])\n",
    "        dg = np.array([])\n",
    "    elif problem == 3:\n",
    "        h = np.array([])\n",
    "        dh = np.array([])\n",
    "        g = np.array([x[0] + x[1] - 2])\n",
    "        dg = np.array([1, 1])\n",
    "    elif problem == 4:\n",
    "        h=np.array([])\n",
    "        dh=np.array([])\n",
    "        g=np.array([x[0] + x[1] - 4, 2 - x[0]])\n",
    "        dg=np.array([\n",
    "            [1, 1],\n",
    "            [-1, 0]\n",
    "            ])\n",
    "    elif problem == 5:\n",
    "        L, Sadm, q = 5, 20e6, 20e3\n",
    "        h = np.array([])\n",
    "        dh = np.array([])\n",
    "        g = np.array([])\n",
    "        dg = np.array([])    \n",
    "    return h, dh, g, dg"
   ]
  },
  {
   "cell_type": "markdown",
   "metadata": {},
   "source": [
    "From here on, the method is user independent:"
   ]
  },
  {
   "cell_type": "code",
   "execution_count": 4,
   "metadata": {},
   "outputs": [],
   "source": [
    "# Definition of the penalized function phi\n",
    "def phi(x):\n",
    "    global r\n",
    "    f, df = f_obj(x)\n",
    "    h, dh, g, dg = nlconstraints(x)\n",
    "\n",
    "    auxg = np.maximum(0, g)\n",
    "    ph = f + r*(h.sum()**2 + auxg.sum()**2)\n",
    "    \n",
    "    # Construction of the gradient of phi: contribution of the inequality constraints (g_i)\n",
    "    dgaux = np.array(np.zeros(x.shape))\n",
    "    if g.size == 1:  # splip into two situations: with only one constraints, and more constraints\n",
    "        dgaux = dg*np.maximum(0, g)\n",
    "    else:\n",
    "        for i in range(g.size):\n",
    "            dgaux = dgaux + dg[i, :]*np.maximum(0, g[i])\n",
    "        \n",
    "    # Construction of the gradient of phi: contribution of the equality constraints (h_j)\n",
    "    dhaux = np.array(np.zeros(x.shape))\n",
    "    if h.size == 1:  # slip into two situations: with only one constraints, and more constraints\n",
    "        dhaux = dh*h\n",
    "    else:\n",
    "        for j in range(h.size):\n",
    "            dhaux = dhaux + dh[j, :]*h[j]\n",
    "    \n",
    "    # Gradient of phi:\n",
    "    dph = df + 2*r*(dhaux + dgaux)\n",
    "    return ph, dph\n",
    "\n",
    "# Definition of the equation to be minimized as function of the step size alpha\n",
    "def f_alpha(alpha, args):\n",
    "    xk, d = args[0], args[1]\n",
    "    xaux = xk + alpha*d\n",
    "    f, df = phi(xaux)\n",
    "    \n",
    "    return f"
   ]
  },
  {
   "cell_type": "markdown",
   "metadata": {},
   "source": [
    "Definition of the unconstrained optimization algorithm:\n"
   ]
  },
  {
   "cell_type": "code",
   "execution_count": 5,
   "metadata": {},
   "outputs": [],
   "source": [
    "def CG_GS(x, alpha0, TolG):\n",
    "    # Count variable\n",
    "    t = 0\n",
    "    # f and df values at the initial point\n",
    "    [f, df] = phi(x)\n",
    "    dftm1 = df\n",
    "    \n",
    "    xs = [x]\n",
    "    fs = [f]\n",
    "        \n",
    "    while np.sqrt(df @ df)>TolG:\n",
    "        # Search direction: Conjugated Gradient\n",
    "        beta = (np.linalg.norm(df)/np.linalg.norm(dftm1))**2\n",
    " \n",
    "        if t == 0:\n",
    "            d = -df\n",
    "        else:\n",
    "            d = -df + beta*dtm1\n",
    "            \n",
    "        # Step determination: Golden Search (method='golden'), Brent (method='brent') or Bounded (method='bounded')\n",
    "        alpha = minimize_scalar(f_alpha, bounds=(.001, alpha0), args=([x,d]), method='bounded')\n",
    "\n",
    "        # Update the current point\n",
    "        xt = x + alpha.x*d\n",
    "        xs.append(xt)\n",
    "        \n",
    "        # Saves information of gradient and descent direction of current iteration\n",
    "        dftm1 = df\n",
    "        dtm1 = d\n",
    "    \n",
    "        # Evaluate the objective function and gradient at the new point\n",
    "        [f, df] = phi(xt)\n",
    "        fs.append(f)\n",
    "    \n",
    "        # Update the design variable and iteration number\n",
    "        x = xt\n",
    "        t = t + 1\n",
    "    return x, f, df, t, xs, fs"
   ]
  },
  {
   "cell_type": "markdown",
   "metadata": {},
   "source": [
    "External Penalty method iterative scheme:"
   ]
  },
  {
   "cell_type": "code",
   "execution_count": 6,
   "metadata": {},
   "outputs": [
    {
     "name": "stdout",
     "output_type": "stream",
     "text": [
      "Stopped due to the number of iterations\n"
     ]
    }
   ],
   "source": [
    "k, stop_1, stop_2 = 0, 1, 1\n",
    "points = []\n",
    "values = []\n",
    "while k < itmax and stop_1 > epsilon_1 and stop_2 > epsilon_2:\n",
    "    xt, f, df, t, xs, fs = CG_GS(x, alpha0, TolG)\n",
    "    \n",
    "    fopt, _ = f_obj(xt)\n",
    "    stop_1 = abs((f - fopt)/fopt)\n",
    "    if k > 0:\n",
    "        stop_2 = abs((f - f_old)/f)\n",
    "    \n",
    "    points.append(xs)\n",
    "    values.append(fs)\n",
    "    \n",
    "    f_old = f\n",
    "    r = r*r_ratio\n",
    "    x = xt\n",
    "    k = k + 1\n",
    "    \n",
    "    cost_f += t\n",
    "    cost_g += t\n",
    "    \n",
    "    if k >= itmax:\n",
    "        print('Stopped due to the number of iterations')\n",
    "    elif stop_1 <= epsilon_1:\n",
    "        print('Stopped due to the small magnitude of the penalty terms')\n",
    "    elif stop_2 <= epsilon_2:\n",
    "        print('Stopped due to a small change in value of the penalized objective function')\n",
    "\n",
    "fopt, dfopt = f_obj(xt)\n",
    "hopt, dhopt, gopt, dgopt = nlconstraints(xt)"
   ]
  },
  {
   "cell_type": "markdown",
   "metadata": {},
   "source": [
    "The optimum design is stored in the variable $x$. Once the results are obtained, we may print them:"
   ]
  },
  {
   "cell_type": "code",
   "execution_count": 7,
   "metadata": {},
   "outputs": [
    {
     "name": "stdout",
     "output_type": "stream",
     "text": [
      "Optimum found:\n",
      "[1.14890047 1.14890047]\n",
      "Objective function value at the optimum:\n",
      "0.246541755509781\n",
      "Inequality constraints at the optimum:\n",
      "[]\n",
      "Equality constraints at the optimum:\n",
      "0.2978009462983007\n",
      "Number of times that the f_obj function and constraints were evaluated, respectively:\n",
      "10\n",
      "10\n",
      "Number of iterations of the External penalty method:\n",
      "10\n"
     ]
    }
   ],
   "source": [
    "fopt, dfopt = f_obj(x)\n",
    "hopt, dhopt, gopt, dgopt = nlconstraints(x)\n",
    "\n",
    "print('Optimum found:')\n",
    "print(xt)\n",
    "print('Objective function value at the optimum:')\n",
    "print(fopt)\n",
    "print('Inequality constraints at the optimum:')\n",
    "print(gopt)\n",
    "print('Equality constraints at the optimum:')\n",
    "print(hopt)\n",
    "\n",
    "print('Number of times that the f_obj function and constraints were evaluated, respectively:')\n",
    "print(cost_f)\n",
    "print(cost_g)\n",
    "print('Number of iterations of the External penalty method:')\n",
    "print(k)\n"
   ]
  }
 ],
 "metadata": {
  "kernelspec": {
   "display_name": "Python 3",
   "language": "python",
   "name": "python3"
  },
  "language_info": {
   "codemirror_mode": {
    "name": "ipython",
    "version": 3
   },
   "file_extension": ".py",
   "mimetype": "text/x-python",
   "name": "python",
   "nbconvert_exporter": "python",
   "pygments_lexer": "ipython3",
   "version": "3.11.2"
  }
 },
 "nbformat": 4,
 "nbformat_minor": 4
}
