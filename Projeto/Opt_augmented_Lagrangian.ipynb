{
 "cells": [
  {
   "cell_type": "markdown",
   "metadata": {},
   "source": [
    "# Optimization method : Exterior Penalty Function - Augmented Lagrangian (Section 5.4.1 Martins, J. and Ning, A.)\n",
    "\n",
    "Augmented Lagrangian function for equality constraints is\n",
    "\n",
    "$\\hat{f}(x; \\lambda, \\mu) = f(x) + \\sum^{n_h}_{j=1} \\lambda_j h_j (x) + \\frac{\\mu}{2} \\sum^{n_h}_{j=1}h_j(x)^2$\n",
    "\n",
    "The optimality conditions for the augmented Lagrangian:\n",
    "\n",
    "$\\nabla_x \\hat{f} (x; \\lambda, \\mu) = \\nabla f(x) + \\sum^{n_h}_{j=1} (\\lambda_j + \\mu h_j(x)) \\nabla h_j = 0$\n",
    "\n",
    "The optimality conditions for the actual Lagrangian:\n",
    "\n",
    "$\\nabla_x \\mathfrak{L}(x^*, \\lambda^*) = \\nabla f(x^*) + \\sum^{n_h}_{j=1} \\lambda_j^* \\nabla h_j(x^*) = 0$\n",
    "\n",
    "Comparing these two conditions\n",
    "\n",
    "$\\lambda^*_j \\approx \\lambda_j + \\mu h_j$\n",
    "\n",
    "Therefore, the update of the vector of Lagrange multipliers $\\mathbf{\\lambda}_{k+1}$ is based on the current estimate of the Lagrange multipliers $\\mathbf{\\lambda}_k$ and constraint values $\\mathbf{h}(\\mathbf{x}_k)$ using\n",
    "\n",
    "$\\lambda_{k+1} = \\lambda_k + \\mu_k h(x_k)$\n",
    "\n",
    "This approach is an improvement on the plain quadratic penalty because updating the Lagrange multiplier estimates at each iteration allows for more accurate solutions without increasing $\\mu$ as much. The quadratic penalty increases $\\mu$ in the denominator to drive the constraints to zero ($h_j \\approx \\frac{\\lambda_j^*}{\\mu}$), while the augmented Lagrangian also controls the numerator through the Lagrange multiplier estimate. If the estimate is reasonably close to the true Lagrange multiplier, then the numerator becomes small for modest values of $\\mu$. Thus, the augmented Lagrangian can provide a good solution for $x^*$ while avoiding the ill-conditioning issues of the quadratic penalty.\n",
    "\n",
    "$h_j \\approx \\frac{1}{\\mu} (\\lambda^*_j - \\lambda_j)$\n",
    "\n",
    "One well-known approach for handling inequality constraints using the augmented Lagrangian approach is given by\n",
    "\n",
    "$\\hat{f}(x; \\mu) = f(x) + \\lambda^T \\overline{g}(x) + \\frac{\\mu}{2} \\| \\overline{g}(x) \\|^2_2$\n",
    "\n",
    "where\n",
    "\n",
    "$\\overline{g}(x) \\equiv \\left\\{\\begin{array}{ll} h_j(x) & \\text{for equality constraints} \\\\ g_j(x) & \\text{if } g_j \\geq -\\lambda_j/\\mu \\\\ -\\lambda_j/\\mu & \\text{otherwise.} \\end{array}\\right.$\n",
    "\n",
    "## For the unconstrained search: conjugated gradient + interval reduction method\n",
    "\n",
    "1) Step size: Golden Search Method, employing the function \"minimize_scalar\" from scipy.optimize\n",
    "\n",
    "2) Search direction : Conjugated Gradient, $\\mathbf{d}_{(t)} = -\\nabla_{\\mathbf{x}} f_{(t)} + \\beta_{(t)}\\mathbf{d}_{(t-1)}$, onde $\\beta_{(t)}=\\left[\\frac{||\\nabla_{\\mathbf{x}} f_{(t)}||}{||\\nabla_{\\mathbf{x}} f_{(t-1)}||}\\right]^2$ \n",
    "\n",
    "The first step consists in defining the algorithms parameters, such as initial point $\\mathbf{x}_{(0)}$, $\\alpha_{(t)}$ and convergence tolerance constant $\\epsilon_{\\nabla}$, as well as the function to be minimized and its gradient evaluation:\n",
    "\n"
   ]
  },
  {
   "cell_type": "code",
   "execution_count": 56,
   "metadata": {},
   "outputs": [],
   "source": [
    "# IMPLEMENTAR UM PROBLEMA DO LIVRO\n",
    "# IMPLEMENTAR O AUGMENTED LAGRANGIAN\n",
    "# PARA MAIS ALÉM, VER SOBRE O SQP"
   ]
  },
  {
   "cell_type": "code",
   "execution_count": 57,
   "metadata": {},
   "outputs": [],
   "source": [
    "import numpy as np\n",
    "from scipy.optimize import minimize_scalar\n",
    "from plot_descent_penalty import plot_2d_contour, plot_3d_surface\n",
    "%matplotlib widget"
   ]
  },
  {
   "cell_type": "code",
   "execution_count": 58,
   "metadata": {},
   "outputs": [],
   "source": [
    "# Problem to be solved and variable for computational cost computation\n",
    "global problem, r\n",
    "problem = 1\n",
    "cost_f, cost_g = 0, 0\n",
    "\n",
    "# Initial guess\n",
    "x = 5*np.array([1, 1])\n",
    "\n",
    "# Upper bound for the Gold Search algorithm\n",
    "alpha0 = 1.0\n",
    "\n",
    "# Initial value for penalization parameter and rate of increase\n",
    "r, r_ratio = .1, 2\n",
    "\n",
    "# Convergence Tolerance\n",
    "TolG = 1e-5\n",
    "\n",
    "# Stopping criterias\n",
    "itmax = 10 # Maximum number of iterations\n",
    "epsilon_1 = 0.001 # Magnitude of the penalty terms\n",
    "epsilon_2 = 0.001 # Change in value of the penalized objective function"
   ]
  },
  {
   "cell_type": "markdown",
   "metadata": {},
   "source": [
    "Define the objective function to be minimized and its constraints (it must be done by the user):"
   ]
  },
  {
   "cell_type": "code",
   "execution_count": 59,
   "metadata": {},
   "outputs": [],
   "source": [
    "# Definition of the equation to be minimized\n",
    "def f_obj(x):\n",
    "    global problem\n",
    "    if problem == 1: # Example 5.8\n",
    "        f = x[0] + 2*x[1]\n",
    "        df = np.array([1, 2])\n",
    "        \n",
    "    return f, df\n",
    "\n",
    "# Definition of the constraints: h and g\n",
    "def nlconstraints(x):\n",
    "    global problem\n",
    "    if problem == 1:\n",
    "        h = np.array([])\n",
    "        dh = np.array([])\n",
    "        g = np.array([1/4*x[0]**2 + x[1]**2 - 1])\n",
    "        dg = np.array([1/2*x[0], 2*x[1]])\n",
    "    return h, dh, g, dg"
   ]
  },
  {
   "cell_type": "markdown",
   "metadata": {},
   "source": [
    "From here on, the method is user independent:"
   ]
  },
  {
   "cell_type": "code",
   "execution_count": 60,
   "metadata": {},
   "outputs": [],
   "source": [
    "def augmented_Lagrangian(alpha, args):\n",
    "    global r, lambda_eq, lambda_ineq\n",
    "    x = args[0] + alpha*args[1]\n",
    "    \n",
    "    h, _, g, _ = nlconstraints(np.array(x))\n",
    "    f, _ = f_obj(np.array(x))\n",
    "    \n",
    "    ghat = np.copy(g)\n",
    "    for i in range(g.size):\n",
    "        c = -lambda_ineq[i]/r\n",
    "        if g[i] < c:\n",
    "            ghat[i] = c\n",
    "\n",
    "    L = f + np.dot(lambda_eq, h) + r/2 * np.dot(h, h) + np.dot(lambda_ineq, g) + r/2 * np.dot(g, g)\n",
    "    \n",
    "    return L"
   ]
  },
  {
   "cell_type": "code",
   "execution_count": 61,
   "metadata": {},
   "outputs": [],
   "source": [
    "# Definition of the penalized function phi\n",
    "def phi(x):\n",
    "    global r\n",
    "    f, df = f_obj(x)\n",
    "    h, dh, g, dg = nlconstraints(x)\n",
    "\n",
    "    auxg = np.maximum(0, g)\n",
    "    ph = f + r*(h.sum()**2 + auxg.sum()**2)\n",
    "    \n",
    "    # Construction of the gradient of phi: contribution of the inequality constraints (g_i)\n",
    "    dgaux = np.array(np.zeros(x.shape))\n",
    "    if g.size == 1:  # splip into two situations: with only one constraints, and more constraints\n",
    "        dgaux = dg*np.maximum(0, g)\n",
    "    else:\n",
    "        for i in range(g.size):\n",
    "            dgaux = dgaux + dg[i, :]*np.maximum(0, g[i])\n",
    "        \n",
    "    # Construction of the gradient of phi: contribution of the equality constraints (h_j)\n",
    "    dhaux = np.array(np.zeros(x.shape))\n",
    "    if h.size == 1:  # slip into two situations: with only one constraints, and more constraints\n",
    "        dhaux = dh*h\n",
    "    else:\n",
    "        for j in range(h.size):\n",
    "            dhaux = dhaux + dh[j, :]*h[j]\n",
    "    \n",
    "    # Gradient of phi:\n",
    "    dph = df + 2*r*(dhaux + dgaux)\n",
    "    return ph, dph\n",
    "\n",
    "# Definition of the equation to be minimized as function of the step size alpha\n",
    "def f_alpha(alpha, args):\n",
    "    xk, d = args[0], args[1]\n",
    "    xaux = xk + alpha*d\n",
    "    f, df = phi(xaux)\n",
    "    \n",
    "    return f"
   ]
  },
  {
   "cell_type": "markdown",
   "metadata": {},
   "source": [
    "Definition of the unconstrained optimization algorithm:\n"
   ]
  },
  {
   "cell_type": "code",
   "execution_count": 62,
   "metadata": {},
   "outputs": [],
   "source": [
    "def CG_GS(x, alpha0, TolG):\n",
    "    # Count variable\n",
    "    t = 0\n",
    "    # f and df values at the initial point\n",
    "    [f, df] = phi(x)\n",
    "    dftm1 = df\n",
    "    \n",
    "    xs = [x]\n",
    "    fs = [f]\n",
    "        \n",
    "    while np.sqrt(df @ df) > TolG:\n",
    "        # Search direction: Conjugated Gradient\n",
    "        beta = (np.linalg.norm(df)/np.linalg.norm(dftm1))**2\n",
    " \n",
    "        if t == 0:\n",
    "            d = -df\n",
    "        else:\n",
    "            d = -df + beta*dtm1\n",
    "            \n",
    "        # Step determination: Golden Search (method='golden'), Brent (method='brent') or Bounded (method='bounded')\n",
    "        # alpha = minimize_scalar(f_alpha, bounds=(.001, alpha0), args=([x,d]), method='bounded')\n",
    "        alpha = minimize_scalar(augmented_Lagrangian, bounds=(.001, alpha0), args=([x, d]), method='bounded')\n",
    "\n",
    "        # Update the current point\n",
    "        xt = x + alpha.x*d\n",
    "        xs.append(xt)\n",
    "        \n",
    "        # Saves information of gradient and descent direction of current iteration\n",
    "        dftm1 = df\n",
    "        dtm1 = d\n",
    "    \n",
    "        # Evaluate the objective function and gradient at the new point\n",
    "        [f, df] = phi(xt)\n",
    "        fs.append(f)\n",
    "    \n",
    "        # Update the design variable and iteration number\n",
    "        x = xt\n",
    "        t = t + 1\n",
    "    return x, f, df, t, xs, fs"
   ]
  },
  {
   "cell_type": "markdown",
   "metadata": {},
   "source": [
    "External Penalty method iterative scheme:"
   ]
  },
  {
   "cell_type": "code",
   "execution_count": 63,
   "metadata": {},
   "outputs": [
    {
     "name": "stderr",
     "output_type": "stream",
     "text": [
      "C:\\Users\\CORE\\AppData\\Local\\Temp\\ipykernel_13564\\814673724.py:11: RuntimeWarning: overflow encountered in matmul\n",
      "  while np.sqrt(df @ df) > TolG:\n",
      "C:\\Users\\CORE\\AppData\\Local\\Temp\\ipykernel_13564\\3235579914.py:5: RuntimeWarning: invalid value encountered in scalar add\n",
      "  f = x[0] + 2*x[1]\n",
      "C:\\Users\\CORE\\AppData\\Local\\Temp\\ipykernel_13564\\814673724.py:13: RuntimeWarning: invalid value encountered in scalar divide\n",
      "  beta = (np.linalg.norm(df)/np.linalg.norm(dftm1))**2\n"
     ]
    }
   ],
   "source": [
    "global lambda_eq, lambda_ineq\n",
    "\n",
    "k, stop_1, stop_2 = 0, 1.0, 1.0\n",
    "\n",
    "h, _, g, _ = nlconstraints(np.array([0, 0]))\n",
    "\n",
    "lambda_eq = np.zeros((h.size))\n",
    "lambda_ineq = np.zeros((g.size))\n",
    "\n",
    "points = []\n",
    "values = []\n",
    "\n",
    "while k < itmax and stop_1 > epsilon_1 and stop_2 > epsilon_2:\n",
    "    # Conjugate gradient + Golden search method\n",
    "    xt, f, df, t, xs, fs = CG_GS(x, alpha0, TolG)\n",
    "    \n",
    "    # Check convergence\n",
    "    fopt, _ = f_obj(xt)\n",
    "    stop_1 = abs((f - fopt)/fopt)\n",
    "    \n",
    "    if k > 0:\n",
    "        stop_2 = abs((f - f_old)/f)\n",
    "        \n",
    "    points.append(xs)\n",
    "    values.append(fs)\n",
    "    \n",
    "    f_old = f\n",
    "    \n",
    "    if k >= itmax:\n",
    "        print('Stopped due to the number of iterations')\n",
    "    elif stop_1 <= epsilon_1:\n",
    "        print('Stopped due to the small magnitude of the penalty terms')\n",
    "    elif stop_2 <= epsilon_2:\n",
    "        print('Stopped due to a small change in value of the penalized objective function')\n",
    "        \n",
    "    # Update Lagrange multiplier, penalty parameter and starting point\n",
    "    h, dh, g, dg = nlconstraints(xt)\n",
    "    lambda_eq = lambda_eq + r*h\n",
    "    lambda_ineq = lambda_ineq + r*g\n",
    "    r = r*r_ratio\n",
    "    x = xt\n",
    "    k = k + 1\n",
    "    \n",
    "    # Update cost\n",
    "    cost_f += t\n",
    "    cost_g += t\n",
    "\n",
    "fopt, dfopt = f_obj(xt)\n",
    "hopt, dhopt, gopt, dgopt = nlconstraints(xt)"
   ]
  },
  {
   "cell_type": "markdown",
   "metadata": {},
   "source": [
    "The optimum design is stored in the variable $x$. Once the results are obtained, we may print them:"
   ]
  },
  {
   "cell_type": "code",
   "execution_count": 64,
   "metadata": {},
   "outputs": [
    {
     "name": "stdout",
     "output_type": "stream",
     "text": [
      "Optimum found:\n",
      "[nan nan]\n",
      "Objective function value at the optimum:\n",
      "nan\n",
      "Inequality constraints at the optimum:\n",
      "[nan]\n",
      "Equality constraints at the optimum:\n",
      "[]\n",
      "Number of times that the f_obj function and constraints were evaluated, respectively:\n",
      "166\n",
      "166\n",
      "Number of iterations of the External penalty method:\n",
      "1\n"
     ]
    }
   ],
   "source": [
    "fopt, dfopt = f_obj(x)\n",
    "hopt, dhopt, gopt, dgopt = nlconstraints(x)\n",
    "\n",
    "print('Optimum found:')\n",
    "print(xt)\n",
    "print('Objective function value at the optimum:')\n",
    "print(fopt)\n",
    "print('Inequality constraints at the optimum:')\n",
    "print(gopt)\n",
    "print('Equality constraints at the optimum:')\n",
    "print(hopt)\n",
    "\n",
    "print('Number of times that the f_obj function and constraints were evaluated, respectively:')\n",
    "print(cost_f)\n",
    "print(cost_g)\n",
    "print('Number of iterations of the External penalty method:')\n",
    "print(k)\n"
   ]
  },
  {
   "cell_type": "code",
   "execution_count": 65,
   "metadata": {},
   "outputs": [
    {
     "ename": "AttributeError",
     "evalue": "'tuple' object has no attribute 'is_real'",
     "output_type": "error",
     "traceback": [
      "\u001b[1;31m---------------------------------------------------------------------------\u001b[0m",
      "\u001b[1;31mAttributeError\u001b[0m                            Traceback (most recent call last)",
      "\u001b[1;32mc:\\Users\\CORE\\Desktop\\Gabriel\\Disciplinas\\Otimização\\Codes\\introduction-to-optimization\\Projeto\\Opt_augmented_Lagrangian.ipynb Cell 16\u001b[0m line \u001b[0;36m7\n\u001b[0;32m      <a href='vscode-notebook-cell:/c%3A/Users/CORE/Desktop/Gabriel/Disciplinas/Otimiza%C3%A7%C3%A3o/Codes/introduction-to-optimization/Projeto/Opt_augmented_Lagrangian.ipynb#X20sZmlsZQ%3D%3D?line=3'>4</a>\u001b[0m all_f \u001b[39m=\u001b[39m np\u001b[39m.\u001b[39marray(values)\n\u001b[0;32m      <a href='vscode-notebook-cell:/c%3A/Users/CORE/Desktop/Gabriel/Disciplinas/Otimiza%C3%A7%C3%A3o/Codes/introduction-to-optimization/Projeto/Opt_augmented_Lagrangian.ipynb#X20sZmlsZQ%3D%3D?line=4'>5</a>\u001b[0m all_f \u001b[39m=\u001b[39m np\u001b[39m.\u001b[39mreshape(all_f, (all_f\u001b[39m.\u001b[39msize))\n\u001b[1;32m----> <a href='vscode-notebook-cell:/c%3A/Users/CORE/Desktop/Gabriel/Disciplinas/Otimiza%C3%A7%C3%A3o/Codes/introduction-to-optimization/Projeto/Opt_augmented_Lagrangian.ipynb#X20sZmlsZQ%3D%3D?line=6'>7</a>\u001b[0m plot_2d_contour(all_x, f_obj, plot_h\u001b[39m=\u001b[39;49m\u001b[39mTrue\u001b[39;49;00m, plot_g\u001b[39m=\u001b[39;49m\u001b[39mTrue\u001b[39;49;00m, f_constraints\u001b[39m=\u001b[39;49mnlconstraints)\n\u001b[0;32m      <a href='vscode-notebook-cell:/c%3A/Users/CORE/Desktop/Gabriel/Disciplinas/Otimiza%C3%A7%C3%A3o/Codes/introduction-to-optimization/Projeto/Opt_augmented_Lagrangian.ipynb#X20sZmlsZQ%3D%3D?line=7'>8</a>\u001b[0m plot_3d_surface(all_x, all_f, f_obj, plot_h\u001b[39m=\u001b[39m\u001b[39mTrue\u001b[39;00m, plot_g\u001b[39m=\u001b[39m\u001b[39mTrue\u001b[39;00m, f_constraints\u001b[39m=\u001b[39mnlconstraints)\n",
      "File \u001b[1;32mc:\\Users\\CORE\\Desktop\\Gabriel\\Disciplinas\\Otimização\\Codes\\introduction-to-optimization\\Projeto\\plot_descent_penalty.py:391\u001b[0m, in \u001b[0;36mplot_2d_contour\u001b[1;34m(x, f_obj, plot_h, plot_g, f_constraints)\u001b[0m\n\u001b[0;32m    389\u001b[0m \u001b[39m# Plot inequality constraints\u001b[39;00m\n\u001b[0;32m    390\u001b[0m \u001b[39mif\u001b[39;00m plot_g \u001b[39mand\u001b[39;00m f_constraints([X1[\u001b[39m0\u001b[39m,\u001b[39m0\u001b[39m], X2[\u001b[39m0\u001b[39m,\u001b[39m0\u001b[39m]])[\u001b[39m2\u001b[39m]\u001b[39m.\u001b[39msize \u001b[39m>\u001b[39m \u001b[39m0\u001b[39m:\n\u001b[1;32m--> 391\u001b[0m     plot_constraints(equality\u001b[39m=\u001b[39;49m\u001b[39mFalse\u001b[39;49;00m)\n\u001b[0;32m    393\u001b[0m ax\u001b[39m.\u001b[39mset_xlim((xmin, xmax))\n\u001b[0;32m    394\u001b[0m ax\u001b[39m.\u001b[39mset_ylim((xmin, xmax))\n",
      "File \u001b[1;32mc:\\Users\\CORE\\Desktop\\Gabriel\\Disciplinas\\Otimização\\Codes\\introduction-to-optimization\\Projeto\\plot_descent_penalty.py:343\u001b[0m, in \u001b[0;36mplot_2d_contour.<locals>.plot_constraints\u001b[1;34m(equality)\u001b[0m\n\u001b[0;32m    341\u001b[0m yy_temp \u001b[39m=\u001b[39m np\u001b[39m.\u001b[39marray([])\n\u001b[0;32m    342\u001b[0m \u001b[39mfor\u001b[39;00m j \u001b[39min\u001b[39;00m \u001b[39mrange\u001b[39m(\u001b[39mlen\u001b[39m(x2)):\n\u001b[1;32m--> 343\u001b[0m     \u001b[39mif\u001b[39;00m \u001b[39mnot\u001b[39;00m x2[j]\u001b[39m.\u001b[39;49mis_real:\n\u001b[0;32m    344\u001b[0m         \u001b[39mbreak\u001b[39;00m\n\u001b[0;32m    345\u001b[0m     x2_value \u001b[39m=\u001b[39m \u001b[39mfloat\u001b[39m(x2[j])\n",
      "\u001b[1;31mAttributeError\u001b[0m: 'tuple' object has no attribute 'is_real'"
     ]
    },
    {
     "data": {
      "application/vnd.jupyter.widget-view+json": {
       "model_id": "1ec93108c07c45c987efd87ffc3b98d7",
       "version_major": 2,
       "version_minor": 0
      },
      "image/png": "[encoded data removed]",
      "text/html": [
       "\n",
       "            <div style=\"display: inline-block;\">\n",
       "                <div class=\"jupyter-widgets widget-label\" style=\"text-align: center;\">\n",
       "                    Figure\n",
       "                </div>\n",
       "                <img src='data:image/png;base64,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' width=800.0/>\n",
       "            </div>\n",
       "        "
      ],
      "text/plain": [
       "Canvas(toolbar=Toolbar(toolitems=[('Home', 'Reset original view', 'home', 'home'), ('Back', 'Back to previous …"
      ]
     },
     "metadata": {},
     "output_type": "display_data"
    }
   ],
   "source": [
    "all_x = np.array(points)\n",
    "all_x = np.reshape(all_x, ( int(all_x.size/2), 2 ))\n",
    "\n",
    "all_f = np.array(values)\n",
    "all_f = np.reshape(all_f, (all_f.size))\n",
    "\n",
    "plot_2d_contour(all_x, f_obj, plot_h=True, plot_g=True, f_constraints=nlconstraints)\n",
    "plot_3d_surface(all_x, all_f, f_obj, plot_h=True, plot_g=True, f_constraints=nlconstraints)"
   ]
  }
 ],
 "metadata": {
  "kernelspec": {
   "display_name": "Python 3",
   "language": "python",
   "name": "python3"
  },
  "language_info": {
   "codemirror_mode": {
    "name": "ipython",
    "version": 3
   },
   "file_extension": ".py",
   "mimetype": "text/x-python",
   "name": "python",
   "nbconvert_exporter": "python",
   "pygments_lexer": "ipython3",
   "version": "3.11.4"
  }
 },
 "nbformat": 4,
 "nbformat_minor": 4
}
