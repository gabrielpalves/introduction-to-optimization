{
 "cells": [
  {
   "cell_type": "markdown",
   "metadata": {},
   "source": [
    "# Optimization method : Conjugate Gradient +Golden Search\n",
    "\n",
    "1) Pass: Golden Search Method, employing the function \"minimize_scalar\" from scipy.optimize\n",
    "\n",
    "2) Search direction : Conjugated Gradient, $\\mathbf{d}_{(t)} = -\\nabla_{\\mathbf{x}} f_{(t)} + \\beta_{(t)}\\mathbf{d}_{(t-1)}$, onde $\\beta_{(t)}=\\left[\\frac{||\\nabla_{\\mathbf{x}} f_{(t)}||}{||\\nabla_{\\mathbf{x}} f_{(t-1)}||}\\right]^2$ \n",
    "\n",
    "The first step consists in defining the algorithms parameters, such as initial point $\\mathbf{x}_{(0)}$, $\\alpha_{(t)}$ and convergence tolerance constant $\\epsilon_{\\nabla}$, as well as the function to be minimized and its gradient evaluation:\n",
    "\n"
   ]
  },
  {
   "cell_type": "code",
   "execution_count": 76,
   "metadata": {},
   "outputs": [
    {
     "name": "stdout",
     "output_type": "stream",
     "text": [
      "[160 120]\n"
     ]
    }
   ],
   "source": [
    "import numpy as np\n",
    "from scipy.optimize import minimize_scalar\n",
    "# Problem to be solved and variable for computational cost computation\n",
    "global problem, cost\n",
    "cost=0\n",
    "t=0\n",
    "problem=2\n",
    "# Initial guess\n",
    "x=np.array([20, 20])\n",
    "# Upper bound for the Gold Search algorithm\n",
    "alpha0=1.0\n",
    "# Convergence Tolerance\n",
    "TolG=1e-5\n",
    "\n",
    "# Definition of the equation to be minimized\n",
    "def f_obj(x):\n",
    "    global cost, problem\n",
    "    cost=cost+1\n",
    "    if problem==1:\n",
    "        f = x[0]**2+x[1]**2\n",
    "        df = np.array([2*x[0], 2*x[1]])\n",
    "    elif problem==2:\n",
    "        f=3*x[0]**2+2*x[0]*x[1]+2*x[1]**2+7\n",
    "        df=np.array([6*x[0]+2*x[1], 2*x[0]+4*x[1]])\n",
    "    return f, df\n",
    "# Definition of the equation to be minimized as function of the step size alpha\n",
    "def f_alpha(alpha,args):\n",
    "    xk,d=args[0],args[1]\n",
    "    xaux=xk+alpha*d\n",
    "    f,df=f_obj(xaux)\n",
    "    return f\n",
    "\n",
    "# f and df values at the inital point\n",
    "[f,df]=f_obj(x)\n",
    "dftm1=df\n",
    "print(df)"
   ]
  },
  {
   "cell_type": "markdown",
   "metadata": {},
   "source": [
    "Now, we may start the iterative process for the function minimization using the gradient descent with step size calculated using the Golden Search method. For the latter, the function \"minimize_scalar\" from scipy.optimize is employed\n",
    "\n"
   ]
  },
  {
   "cell_type": "code",
   "execution_count": 77,
   "metadata": {},
   "outputs": [],
   "source": [
    "while np.sqrt(df @ df)>TolG:\n",
    "    # Search direction: Conjugated Gradient\n",
    "    beta = (np.linalg.norm(df)/np.linalg.norm(dftm1))**2\n",
    " \n",
    "    if t==0:\n",
    "        d=-df\n",
    "    else:\n",
    "        d=-df+beta*dtm1\n",
    "            \n",
    "    # Step determination: Golden Search (method='golden'), Brent (method='brent') or Bounded (method='bounded')\n",
    "    alpha=minimize_scalar(f_alpha, bounds=(.001, alpha0), args=([x,d]), method='bounded')\n",
    "\n",
    "    # Update the current point \n",
    "    xt=x+alpha.x*d\n",
    "    \n",
    "    # Saves information of gradient and descent direction of current iteration\n",
    "    dftm1=df\n",
    "    dtm1=d\n",
    "    \n",
    "    # Evaluate the objective funciton and gradient at the new point\n",
    "    [f,df]=f_obj(xt)\n",
    "    \n",
    "    # Update the design vairable and iteration number \n",
    "    x=xt\n",
    "    t=t+1"
   ]
  },
  {
   "cell_type": "markdown",
   "metadata": {},
   "source": [
    "The optimum design is stored in the variable $x$. Once the results are obtained, we may print them:"
   ]
  },
  {
   "cell_type": "code",
   "execution_count": 78,
   "metadata": {},
   "outputs": [
    {
     "name": "stdout",
     "output_type": "stream",
     "text": [
      "Optimum found:\n",
      "[0. 0.]\n",
      "Objective function value at the optimum:\n",
      "7.0\n",
      "Norm of the gradient at the optimum:\n",
      "0.0\n",
      "Number of times that the f_obj function was evaluated:\n",
      "15\n",
      "Number of iterations for convergence:\n",
      "2\n"
     ]
    }
   ],
   "source": [
    "print('Optimum found:')\n",
    "print(xt)\n",
    "print('Objective function value at the optimum:')\n",
    "print(f)\n",
    "print('Norm of the gradient at the optimum:')\n",
    "print(np.sqrt(df @ df))\n",
    "print('Number of times that the f_obj function was evaluated:')\n",
    "print(cost)\n",
    "print('Number of iterations for convergence:')\n",
    "print(t)\n"
   ]
  },
  {
   "cell_type": "code",
   "execution_count": null,
   "metadata": {},
   "outputs": [],
   "source": []
  }
 ],
 "metadata": {
  "kernelspec": {
   "display_name": "Python 3",
   "language": "python",
   "name": "python3"
  },
  "language_info": {
   "codemirror_mode": {
    "name": "ipython",
    "version": 3
   },
   "file_extension": ".py",
   "mimetype": "text/x-python",
   "name": "python",
   "nbconvert_exporter": "python",
   "pygments_lexer": "ipython3",
   "version": "3.7.6"
  }
 },
 "nbformat": 4,
 "nbformat_minor": 4
}
