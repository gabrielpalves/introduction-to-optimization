{
 "cells": [
  {
   "cell_type": "markdown",
   "metadata": {},
   "source": [
    "# Optimization method : Gradient Descent+fixed step\n",
    "\n",
    "1) Step: fixed value\n",
    "\n",
    "2) Search direction : -$\\nabla f$ \n",
    "\n",
    "The first step consists in defining the algorithms parameters, such as initial point $\\mathbf{x}_{(0)}$, $\\alpha_{(t)}$ and convergence tolerance constant $\\epsilon_{\\nabla}$, as well as the function to be minimized and its gradient evaluation:\n",
    "\n"
   ]
  },
  {
   "cell_type": "code",
   "execution_count": 13,
   "metadata": {},
   "outputs": [],
   "source": [
    "import numpy as np\n",
    "# Problem to be solved and variable for computational cost computation\n",
    "global problem, cost\n",
    "cost=0\n",
    "problem=1\n",
    "# Initial guess\n",
    "x0=np.array([-1, 3])\n",
    "k=0\n",
    "alpha0=.01\n",
    "# Convergence Tolerance\n",
    "TolG=1e-6\n",
    "\n",
    "# Definition of the function to be minimized\n",
    "def f_obj(x):\n",
    "    global cost, problem\n",
    "    cost=cost+1\n",
    "    if problem==1:\n",
    "        f = x[0]**2+x[1]**2\n",
    "        df = np.array([2*x[0], 2*x[1]])\n",
    "    elif problem==2:\n",
    "        f=3*x[0]**2+2*x[0]*x[1]+2*x[1]**2+7\n",
    "        df=np.array([6*x[0]+2*x[1], 2*x[0]+4*x[1]])\n",
    "    elif problem==3:\n",
    "        f=10*x[0]**4-20*x[0]**2*x[1]+10*x[1]**2+x[0]**2-2*x[0]+5\n",
    "        df=np.array([40*x[0]**3-40*x[0]*x[1]+2*x[0]-2, -20*x[0]**2+20*x[1]])\n",
    "    return f, df\n",
    "\n",
    "# f and df values at the inital point\n",
    "x,df=f_obj(x0)"
   ]
  },
  {
   "cell_type": "markdown",
   "metadata": {},
   "source": [
    "Now, we may start the iterative process for the function minimization using the gradient descent with fixed step method:\n",
    "\n"
   ]
  },
  {
   "cell_type": "code",
   "execution_count": 14,
   "metadata": {},
   "outputs": [],
   "source": [
    "while np.sqrt(df @ df)>TolG:\n",
    "    # Search direction as negative of the gradient\n",
    "    d=-df\n",
    "    \n",
    "    # Step determination\n",
    "    alpha=alpha0\n",
    "    \n",
    "    # Update the current point \n",
    "    xk=x+alpha*d\n",
    "    \n",
    "    # Evaluate the objective funciton and gradient at the new point\n",
    "    [f,df]=f_obj(xk)\n",
    "    \n",
    "    # Update the design vairable and iteration number \n",
    "    x=xk\n",
    "    k=k+1"
   ]
  },
  {
   "cell_type": "markdown",
   "metadata": {},
   "source": [
    "Once the results are obtained, we may print them:"
   ]
  },
  {
   "cell_type": "code",
   "execution_count": 15,
   "metadata": {},
   "outputs": [
    {
     "name": "stdout",
     "output_type": "stream",
     "text": [
      "Optimum found:\n",
      "[3.49166090e-07 3.46378337e-07]\n",
      "Objective function value at the optimum:\n",
      "2.418949111504493e-13\n",
      "Norm of the gradient at the optimum:\n",
      "9.836562634385027e-07\n",
      "Number of times that the f_obj function was evaluated:\n",
      "852\n",
      "Number of iterations for convergence:\n",
      "851\n"
     ]
    }
   ],
   "source": [
    "print('Optimum found:')\n",
    "print(xk)\n",
    "print('Objective function value at the optimum:')\n",
    "print(f)\n",
    "\n",
    "print('Norm of the gradient at the optimum:')\n",
    "print(np.sqrt(df @ df))\n",
    "print('Number of times that the f_obj function was evaluated:')\n",
    "print(cost)\n",
    "print('Number of iterations for convergence:')\n",
    "print(k)"
   ]
  },
  {
   "cell_type": "code",
   "execution_count": null,
   "metadata": {},
   "outputs": [],
   "source": []
  }
 ],
 "metadata": {
  "kernelspec": {
   "display_name": "Python 3",
   "language": "python",
   "name": "python3"
  },
  "language_info": {
   "codemirror_mode": {
    "name": "ipython",
    "version": 3
   },
   "file_extension": ".py",
   "mimetype": "text/x-python",
   "name": "python",
   "nbconvert_exporter": "python",
   "pygments_lexer": "ipython3",
   "version": "3.7.6"
  }
 },
 "nbformat": 4,
 "nbformat_minor": 4
}
