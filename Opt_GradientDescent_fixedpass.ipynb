{
 "cells": [
  {
   "cell_type": "markdown",
   "metadata": {},
   "source": [
    "# Optimization method : Gradient Descent+fixed step\n",
    "\n",
    "1) Step: fixed value\n",
    "\n",
    "2) Search direction : -$\\nabla f$ \n",
    "\n",
    "The first step consists in defining the algorithms parameters, such as initial point $\\mathbf{x}_{(0)}$, $\\alpha_{(t)}$ and convergence tolerance constant $\\epsilon_{\\nabla}$, as well as the function to be minimized and its gradient evaluation:\n",
    "\n"
   ]
  },
  {
   "cell_type": "code",
   "execution_count": null,
   "metadata": {},
   "outputs": [],
   "source": [
    "import numpy as np\n",
    "import matplotlib.pyplot as plt"
   ]
  },
  {
   "cell_type": "code",
   "execution_count": null,
   "metadata": {},
   "outputs": [],
   "source": [
    "# Problem to be solved and variable for computational cost computation\n",
    "global problem, cost\n",
    "cost=0\n",
    "problem=1\n",
    "# Initial guess\n",
    "x0=np.array([-1, 3])\n",
    "k=0\n",
    "alpha0=.01\n",
    "# Convergence Tolerance\n",
    "TolG=1e-6\n",
    "\n",
    "# Definition of the function to be minimized\n",
    "def f_obj(x):\n",
    "    global cost, problem\n",
    "    cost=cost+1\n",
    "    if problem==1:\n",
    "        f = x[0]**2+x[1]**2\n",
    "        df = np.array([2*x[0], 2*x[1]])\n",
    "    elif problem==2:\n",
    "        f=3*x[0]**2+2*x[0]*x[1]+2*x[1]**2+7\n",
    "        df=np.array([6*x[0]+2*x[1], 2*x[0]+4*x[1]])\n",
    "    elif problem==3:\n",
    "        f=10*x[0]**4-20*x[0]**2*x[1]+10*x[1]**2+x[0]**2-2*x[0]+5\n",
    "        df=np.array([40*x[0]**3-40*x[0]*x[1]+2*x[0]-2, -20*x[0]**2+20*x[1]])\n",
    "    return f, df\n",
    "\n",
    "# f and df values at the inital point\n",
    "x,df=f_obj(x0)"
   ]
  },
  {
   "cell_type": "code",
   "execution_count": null,
   "metadata": {},
   "outputs": [],
   "source": [
    "fig, ax = plt.subplots(nrows=1, ncols=2, figsize=(10,6.15))\n",
    "# ax[0].scatter(x, y, marker='x', s=40, color='k')\n",
    "\n",
    "t0 = np.arange(-5, 5, 0.01)\n",
    "t1 = np.copy(t0)\n",
    "t0, t1 = np.meshgrid(t0, t1)\n",
    "    \n",
    "y = np.zeros((t0.shape))\n",
    "for i in range(t0.shape[0]):\n",
    "    for j in range(t1.shape[0]):\n",
    "        t = np.array([t0[i,j], t1[i,j]])\n",
    "        y[i,j] = f_obj([t0[i,j], t1[i,j]])\n",
    "\n",
    "# A labeled contour plot for the RHS cost function\n",
    "X, Y = np.meshgrid(t0, t1)\n",
    "contours = ax[1].contour(X, Y, y, 30)\n",
    "ax[1].clabel(contours)\n",
    "\n",
    "colors = ['b', 'g', 'm', 'c', 'orange']\n",
    "N = 5\n",
    "for j in range(1, N):\n",
    "    ax[1].annotate('', xy=theta[j], xytext=theta[j-1],\n",
    "                   arrowprops={'arrowstyle': '->', 'color': 'r', 'lw': 1},\n",
    "                   va='center', ha='center')\n",
    "    # ax[0].plot(x, hypothesis(x, *theta[j]), color=colors[j], lw=2,\n",
    "    #        label=r'$\\theta_0 = {:.3f}, \\theta_1 = {:.3f}$'.format(*theta[j]))\n",
    "ax[1].scatter(*zip(*theta), c=colors, s=40, lw=0)\n",
    "\n",
    "# Labels, titles and a legend.\n",
    "ax[1].set_xlabel(r'$x_1$')\n",
    "ax[1].set_ylabel(r'$x_2$')\n",
    "ax[1].set_title('Cost function')\n",
    "# ax[0].set_xlabel(r'$x$')\n",
    "# ax[0].set_ylabel(r'$y$')\n",
    "# ax[0].set_title('Data and fit')\n",
    "# axbox = ax[0].get_position()\n",
    "# # Position the legend by hand so that it doesn't cover up any of the lines.\n",
    "# ax[0].legend(loc=(axbox.x0+0.5*axbox.width, axbox.y0+0.1*axbox.height),\n",
    "#              fontsize='small')\n",
    "\n",
    "plt.show()"
   ]
  },
  {
   "cell_type": "markdown",
   "metadata": {},
   "source": [
    "Now, we may start the iterative process for the function minimization using the gradient descent with fixed step method:\n",
    "\n"
   ]
  },
  {
   "cell_type": "code",
   "execution_count": null,
   "metadata": {},
   "outputs": [],
   "source": [
    "while np.sqrt(df @ df)>TolG:\n",
    "    # Search direction as negative of the gradient\n",
    "    d=-df\n",
    "    \n",
    "    # Step determination\n",
    "    alpha=alpha0\n",
    "    \n",
    "    # Update the current point \n",
    "    xk=x+alpha*d\n",
    "    \n",
    "    # Evaluate the objective funciton and gradient at the new point\n",
    "    [f,df]=f_obj(xk)\n",
    "    \n",
    "    # Update the design vairable and iteration number \n",
    "    x=xk\n",
    "    k=k+1"
   ]
  },
  {
   "cell_type": "markdown",
   "metadata": {},
   "source": [
    "Once the results are obtained, we may print them:"
   ]
  },
  {
   "cell_type": "code",
   "execution_count": null,
   "metadata": {},
   "outputs": [],
   "source": [
    "print('Optimum found:')\n",
    "print(xk)\n",
    "print('Objective function value at the optimum:')\n",
    "print(f)\n",
    "\n",
    "print('Norm of the gradient at the optimum:')\n",
    "print(np.sqrt(df @ df))\n",
    "print('Number of times that the f_obj function was evaluated:')\n",
    "print(cost)\n",
    "print('Number of iterations for convergence:')\n",
    "print(k)"
   ]
  }
 ],
 "metadata": {
  "kernelspec": {
   "display_name": "Python 3 (ipykernel)",
   "language": "python",
   "name": "python3"
  },
  "language_info": {
   "codemirror_mode": {
    "name": "ipython",
    "version": 3
   },
   "file_extension": ".py",
   "mimetype": "text/x-python",
   "name": "python",
   "nbconvert_exporter": "python",
   "pygments_lexer": "ipython3",
   "version": "3.9.7"
  }
 },
 "nbformat": 4,
 "nbformat_minor": 4
}
