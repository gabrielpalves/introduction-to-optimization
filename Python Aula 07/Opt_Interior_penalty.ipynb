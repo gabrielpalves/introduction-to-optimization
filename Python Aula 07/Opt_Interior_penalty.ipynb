{
 "cells": [
  {
   "cell_type": "markdown",
   "metadata": {},
   "source": [
    "# Optimization method : Interior Penalty Function (Section 5.7.2 Haftka)\n",
    "\n",
    "## For the unconstrained search: conjugated gradient + interval reduction method\n",
    "\n",
    "1) Step size: Golden Search Method, employing the function \"minimize_scalar\" from scipy.optimize\n",
    "\n",
    "2) Search direction : Conjugated Gradient, $\\mathbf{d}_{(t)} = -\\nabla_{\\mathbf{x}} f_{(t)} + \\beta_{(t)}\\mathbf{d}_{(t-1)}$, onde $\\beta_{(t)}=\\left[\\frac{||\\nabla_{\\mathbf{x}} f_{(t)}||}{||\\nabla_{\\mathbf{x}} f_{(t-1)}||}\\right]^2$ \n",
    "\n",
    "The first step consists in defining the algorithms parameters, such as initial point $\\mathbf{x}_{(0)}$, $\\alpha_{(t)}$ and convergence tolerance constant $\\epsilon_{\\nabla}$, as well as the function to be minimized and its gradient evaluation:\n",
    "\n"
   ]
  },
  {
   "cell_type": "code",
   "execution_count": 17,
   "metadata": {},
   "outputs": [],
   "source": [
    "import numpy as np\n",
    "from scipy.optimize import minimize_scalar\n",
    "# Problem to be solved and variable for computational cost computation\n",
    "global problem, cost_f, cost_g, r\n",
    "problem=3\n",
    "cost_f,cost_g=0,0\n",
    "# Initial guess\n",
    "x=np.array([.75, .75])\n",
    "# Upper bound for the Gold Search algorithm\n",
    "alpha0=.1\n",
    "# Initial value for penalization parameter\n",
    "r=.51\n",
    "# Convergence Tolerance\n",
    "TolG=1e-5\n",
    "# Maximum number of iterations\n",
    "itmax=4"
   ]
  },
  {
   "cell_type": "markdown",
   "metadata": {},
   "source": [
    "Define the objective function to be minimized and its constraints (it must be done by the user):"
   ]
  },
  {
   "cell_type": "code",
   "execution_count": 18,
   "metadata": {},
   "outputs": [],
   "source": [
    "# Definition of the equation to be minimized\n",
    "def f_obj(x):\n",
    "    global cost_f, problem\n",
    "    cost_f=cost_f+1\n",
    "    if problem==1:\n",
    "        f = x[0]**2+10*x[1]**2\n",
    "        df = np.array([2*x[0], 20*x[1]])\n",
    "    elif problem==2:\n",
    "        f=(x[0]-1.5)**2+(x[1]-1.5)**2\n",
    "        df=np.array([2*(x[0]-1.5), 2*(x[1]-1.5)])\n",
    "    elif problem==3:\n",
    "        f=(x[0]-1.5)**2+(x[1]-1.5)**2\n",
    "        df=np.array([2*(x[0]-1.5), 2*(x[1]-1.5)])\n",
    "    elif problem==4:\n",
    "        f=(x[0]-1)**2+(x[1]-1)**2\n",
    "        df=np.array([2*(x[0]-1), 2*(x[1]-1)])\n",
    "    return f, df\n",
    "\n",
    "# Definition of the constraints: h and g\n",
    "def nlconstraints(x):\n",
    "    global cost_g, problem\n",
    "    cost_g=cost_g+1\n",
    "    if problem==1:\n",
    "        h= x[0]+x[1]-4\n",
    "        dh = np.array([1, 1])\n",
    "        g=np.array([])\n",
    "        dg=np.array([])\n",
    "    elif problem==2:\n",
    "        h=x[0]+x[1]-2\n",
    "        dh=np.array([1, 1])\n",
    "        g=np.array([])\n",
    "        dg=np.array(np.zeros(x.shape))\n",
    "    elif problem==3:\n",
    "        h=np.array([])\n",
    "        dh=np.array(np.zeros(x.shape))\n",
    "        g=np.array([x[0]+x[1]-2])\n",
    "        dg=np.array([1, 1])\n",
    "    elif problem==4:\n",
    "        h=np.array([])\n",
    "        dh=np.array(np.zeros(x.shape))\n",
    "        g=np.array([x[0]+x[1]-4, 2-x[0]])\n",
    "        dg=np.array([[1, 1],[-1,0]])\n",
    "    return h, dh, g, dg"
   ]
  },
  {
   "cell_type": "markdown",
   "metadata": {},
   "source": [
    "From here on, the method is user independent:"
   ]
  },
  {
   "cell_type": "code",
   "execution_count": 19,
   "metadata": {},
   "outputs": [],
   "source": [
    "# Definition of the penalized function phi (only inequality constraints)\n",
    "def phi(x):\n",
    "    global r\n",
    "    f,df=f_obj(x)\n",
    "    h,dh,g,dg=nlconstraints(x)\n",
    "\n",
    "    auxg=g\n",
    "    #ph=f+r*(h.sum()**2 + 1/auxg.sum()**2)\n",
    "    ph=f-r*(1/auxg.sum())\n",
    "    # Construction of the gradient of phi: contribuition of the inequality constriants (g_i)\n",
    "    dgaux=np.array(np.zeros(x.shape))\n",
    "    if g.size==1:  # splip into two situations: with only one constraints, and more constraints\n",
    "        dgaux=(-1)*(dg)/(g**2)\n",
    "    else:\n",
    "        for i in range(g.size):\n",
    "            dgaux=dgaux+(-1)*dg[i,:]/(g[i]**2)\n",
    "        \n",
    "    # Construction of the gradient of phi: contribuition of the equality constriants (h_j)\n",
    "    #dhaux=np.array(np.zeros(x.shape))\n",
    "    #if h.size==1:  # slip into two situations: with only one constraints, and more constraints\n",
    "    #    dhaux=dh*h\n",
    "    #else:\n",
    "    #    for j in range(h.size):\n",
    "    #        dhaux=dhaux+dh[j,:]*h[j]\n",
    "        \n",
    "        \n",
    "    #dph=df+2*r*(dhaux + dgaux)\n",
    "    dph=df-r*(dgaux)\n",
    "    return ph, dph\n",
    "\n",
    "# Definition of the equation to be minimized as function of the step size alpha\n",
    "def f_alpha(alpha,args):\n",
    "    xk,d=args[0],args[1]\n",
    "    xaux=xk+alpha*d\n",
    "    f,df=phi(xaux)\n",
    "    return f"
   ]
  },
  {
   "cell_type": "markdown",
   "metadata": {},
   "source": [
    "Definition of the unconstrained optimization algorithm:\n"
   ]
  },
  {
   "cell_type": "code",
   "execution_count": 20,
   "metadata": {},
   "outputs": [],
   "source": [
    "def CG_GS(x,alpha0,TolG):\n",
    "    # Count variable\n",
    "    t=0\n",
    "    # f and df values at the inital point\n",
    "    [f,df]=phi(x)\n",
    "    dftm1=df\n",
    "    while np.sqrt(df @ df)>TolG:\n",
    "        # Search direction: Conjugated Gradient\n",
    "        beta = (np.linalg.norm(df)/np.linalg.norm(dftm1))**2\n",
    " \n",
    "        if t==0:\n",
    "            d=-df\n",
    "        else:\n",
    "            d=-df+beta*dtm1\n",
    "            \n",
    "        # Step determination: Golden Search (method='golden'), Brent (method='brent') or Bounded (method='bounded')\n",
    "        alpha=minimize_scalar(f_alpha, bounds=(.001, alpha0), args=([x,d]), method='bounded')\n",
    "\n",
    "        # Update the current point \n",
    "        xt=x+alpha.x*d\n",
    "    \n",
    "        # Saves information of gradient and descent direction of current iteration\n",
    "        dftm1=df\n",
    "        dtm1=d\n",
    "    \n",
    "        # Evaluate the objective funciton and gradient at the new point\n",
    "        [f,df]=phi(xt)\n",
    "    \n",
    "        # Update the design vairable and iteration number \n",
    "        x=xt\n",
    "        t=t+1\n",
    "    return x,f,df,t"
   ]
  },
  {
   "cell_type": "markdown",
   "metadata": {},
   "source": [
    "Interior Penalty (or Barrier) method iterative scheme:"
   ]
  },
  {
   "cell_type": "code",
   "execution_count": 21,
   "metadata": {},
   "outputs": [],
   "source": [
    "k=0\n",
    "while k<itmax:\n",
    "    xt,f,df,t=CG_GS(x,alpha0,TolG)\n",
    "    r=r/5\n",
    "    x=xt\n",
    "    k=k+1\n",
    "    \n",
    "fopt,dfopt=f_obj(xt)\n",
    "hopt,dhopt,gopt,dgopt=nlconstraints(xt)"
   ]
  },
  {
   "cell_type": "markdown",
   "metadata": {},
   "source": [
    "The optimum design is stored in the variable $x$. Once the results are obtained, we may print them:"
   ]
  },
  {
   "cell_type": "code",
   "execution_count": 22,
   "metadata": {},
   "outputs": [
    {
     "name": "stdout",
     "output_type": "stream",
     "text": [
      "Optimum found:\n",
      "[0.96900859 0.96900859]\n",
      "Objective function value at the optimum:\n",
      "0.5639037569256715\n",
      "Inequality constraints at the optimum:\n",
      "[-0.06198282]\n",
      "Equality constraints at the optimum:\n",
      "[]\n",
      "Number of times that the f_obj function and constraints were evaluated, respectively:\n",
      "94\n",
      "94\n",
      "Number of iterations of the External penalty method:\n",
      "4\n"
     ]
    }
   ],
   "source": [
    "fopt,dfopt=f_obj(x)\n",
    "hopt,dhopt,gopt,dgopt=nlconstraints(x)\n",
    "print('Optimum found:')\n",
    "print(x)\n",
    "print('Objective function value at the optimum:')\n",
    "print(fopt)\n",
    "print('Inequality constraints at the optimum:')\n",
    "print(gopt)\n",
    "print('Equality constraints at the optimum:')\n",
    "print(hopt)\n",
    "\n",
    "print('Number of times that the f_obj function and constraints were evaluated, respectively:')\n",
    "print(cost_f)\n",
    "print(cost_g)\n",
    "print('Number of iterations of the External penalty method:')\n",
    "print(k)\n"
   ]
  },
  {
   "cell_type": "code",
   "execution_count": null,
   "metadata": {},
   "outputs": [],
   "source": [
    "dg=np.zeros((1,xt.size))\n",
    "\n",
    "dg[0,0]=1#np.array([1, 1])\n",
    "dg[0,1]=3\n",
    "aaa=np.zeros((1,xt.size))\n",
    "print(dg[0,1])"
   ]
  },
  {
   "cell_type": "code",
   "execution_count": null,
   "metadata": {},
   "outputs": [],
   "source": [
    "from random import randint\n",
    "aaa=randint(0, 9)\n",
    "print(aaa)"
   ]
  },
  {
   "cell_type": "code",
   "execution_count": null,
   "metadata": {},
   "outputs": [],
   "source": [
    "print(randint(0,18))"
   ]
  },
  {
   "cell_type": "code",
   "execution_count": null,
   "metadata": {},
   "outputs": [],
   "source": []
  }
 ],
 "metadata": {
  "kernelspec": {
   "display_name": "Python 3",
   "language": "python",
   "name": "python3"
  },
  "language_info": {
   "codemirror_mode": {
    "name": "ipython",
    "version": 3
   },
   "file_extension": ".py",
   "mimetype": "text/x-python",
   "name": "python",
   "nbconvert_exporter": "python",
   "pygments_lexer": "ipython3",
   "version": "3.7.6"
  }
 },
 "nbformat": 4,
 "nbformat_minor": 4
}
